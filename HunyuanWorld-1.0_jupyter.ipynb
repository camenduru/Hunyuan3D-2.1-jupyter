{
 "cells": [
  {
   "cell_type": "markdown",
   "metadata": {
    "id": "view-in-github"
   },
   "source": [
    "[![Open In Colab](https://colab.research.google.com/assets/colab-badge.svg)](https://colab.research.google.com/github/camenduru/Hunyuan3D-2.1-jupyter/blob/main/Hunyuan3D-2.1_jupyter.ipynb)"
   ]
  },
  {
   "cell_type": "code",
   "execution_count": null,
   "metadata": {},
   "outputs": [],
   "source": [
    "%cd /content\n",
    "!git clone -b dev https://github.com/camenduru/Hunyuan3D-2.1-hf\n",
    "\n",
    "%cd /content/Hunyuan3D-2.1/hy3dshape\n",
    "!pip install -r requirements.txt\n",
    "\n",
    "%cd /content/Hunyuan3D-2.1/hy3dpaint\n",
    "!pip install bpy realesrgan pytorch-lightning timm fast-simplification\n",
    "!pip install /content/Hunyuan3D-2.1/custom_rasterizer-0.1-cp310-cp310-linux_x86_64.whl\n",
    "!pip install /content/Hunyuan3D-2.1/hy3dpaint/packages/custom_rasterizer\n",
    "\n",
    "%cd /content/Hunyuan3D-2.1/hy3dpaint/DifferentiableRenderer\n",
    "!bash compile_mesh_painter.sh\n",
    "\n",
    "!pip uninstall BasicSR -y\n",
    "!pip install git+https://github.com/XPixelGroup/BasicSR\n",
    "\n",
    "!sed -i 's/courent = courent\\.simplify_quadric_decimation(target_count)/courent = courent.simplify_quadric_decimation(face_count=target_count)/g' /content/Hunyuan3D-2.1/hy3dpaint/utils/simplify_mesh_utils.py"
   ]
  },
  {
   "cell_type": "code",
   "execution_count": null,
   "metadata": {},
   "outputs": [],
   "source": [
    "%cd /content/Hunyuan3D-2.1/hy3dshape\n",
    "\n",
    "from hy3dshape.pipelines import Hunyuan3DDiTFlowMatchingPipeline\n",
    "  \n",
    "shape_pipeline = Hunyuan3DDiTFlowMatchingPipeline.from_pretrained('tencent/Hunyuan3D-2.1')\n",
    "image_path = \"/content/Hunyuan3D-2.1/assets/example_images/1204.png\"\n",
    "mesh_untextured = shape_pipeline(image=image_path)[0]\n",
    "!mkdir '/content/Hunyuan3D-2.1/test1'\n",
    "mesh_untextured.export('/content/Hunyuan3D-2.1/test1/test.glb')\n",
    "\n",
    "%cd /content/Hunyuan3D-2.1/hy3dpaint\n",
    "\n",
    "from textureGenPipeline import Hunyuan3DPaintPipeline, Hunyuan3DPaintConfig\n",
    "\n",
    "try:\n",
    "    from utils.torchvision_fix import apply_fix\n",
    "    apply_fix()\n",
    "except ImportError:\n",
    "    print(\"Warning: torchvision_fix module not found, proceeding without compatibility fix\")\n",
    "except Exception as e:\n",
    "    print(f\"Warning: Failed to apply torchvision fix: {e}\")\n",
    "\n",
    "paint_pipeline = Hunyuan3DPaintPipeline(Hunyuan3DPaintConfig(max_num_view=6, resolution=512))\n",
    "mesh_path = \"/content/Hunyuan3D-2.1/test1/test.glb\"\n",
    "mesh_textured = paint_pipeline(\n",
    "    mesh_path=mesh_path,\n",
    "    image_path=image_path,\n",
    "    use_remesh=True\n",
    ")"
   ]
  }
 ],
 "metadata": {
  "accelerator": "GPU",
  "colab": {
   "gpuType": "T4",
   "provenance": []
  },
  "kernelspec": {
   "display_name": "Python 3",
   "name": "python3"
  },
  "language_info": {
   "name": "python"
  }
 },
 "nbformat": 4,
 "nbformat_minor": 0
}
